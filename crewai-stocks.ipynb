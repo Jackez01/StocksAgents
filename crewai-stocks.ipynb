{
 "cells": [
  {
   "cell_type": "code",
   "execution_count": null,
   "metadata": {},
   "outputs": [],
   "source": [
    "#Instalação das libs\n",
    "!pip install yfinance==0.2.41\n",
    "!pip install crewai==0.28.8\n",
    "!pip install 'crewai[tools]'\n",
    "!pip install langchain==0.1.20\n",
    "!pip install langchain-openai==0.1.7\n",
    "!pip  install langchain-community==0.0.38\n",
    "!pip install duckduckgo-search==5.3.0"
   ]
  },
  {
   "cell_type": "code",
   "execution_count": null,
   "metadata": {},
   "outputs": [],
   "source": []
  },
  {
   "cell_type": "code",
   "execution_count": null,
   "metadata": {},
   "outputs": [],
   "source": [
    "#import das libs\n",
    "import json\n",
    "import os\n",
    "from datetime import datetime\n",
    "\n",
    "import yfinance as yf\n",
    "\n",
    "from crewai import Agent, Task, Crew, Process\n",
    "\n",
    "from langchain.tools import Tool\n",
    "from langchain_openai import ChatOpenAI\n",
    "from langchain_community.tools import DuckDuckGoSearchResults\n",
    "\n",
    "from IPython.display import Markdown"
   ]
  },
  {
   "cell_type": "code",
   "execution_count": null,
   "metadata": {},
   "outputs": [],
   "source": [
    "#Criando Yahoo Finance Tool\n",
    "def fetch_stock_price(ticket):\n",
    "    stock = yf.download(ticket, start=\"2023-08-08\", end=\"2024-08-08\")\n",
    "    return stock\n",
    "\n",
    "yahoo_finance_tool = Tool(\n",
    "    name = \"Yahoo Finance Tool\",\n",
    "    description = \"Fetches stocks prices for {ticket} from the last year about a especific stock from Yahoo Finance API\",\n",
    "    func = lambda ticket: fetch_stock_price(ticket)\n",
    ")"
   ]
  },
  {
   "cell_type": "code",
   "execution_count": null,
   "metadata": {},
   "outputs": [],
   "source": [
    "#importando OPENIA - LLM GPT\n",
    "os.eviron['OPENA_API_KEY'] == \"Pagar para usar open AI\"\n",
    "llm = ChatOpenAI(model=\"gpt-3.5-turbo\")"
   ]
  },
  {
   "cell_type": "code",
   "execution_count": null,
   "metadata": {},
   "outputs": [],
   "source": [
    "stockPriceAnalyst = Agent (\n",
    "    role = \"Senior Stock price Analyst\",\n",
    "    goal = \"find the {ticket} stock price and analyses trends\",\n",
    "    backstory = \"\"\" You are highly experienced in analyzing the price of an specific stock and\n",
    "    make predctions about its future price.\"\"\" ,\n",
    "    verbose = True,\n",
    "    llm= llm,\n",
    "    max_iter = 5,\n",
    "    memory = True,\n",
    "    tools=[yahoo_finance_tool],\n",
    "    allow_delegation = False\n",
    ")"
   ]
  },
  {
   "cell_type": "code",
   "execution_count": null,
   "metadata": {},
   "outputs": [],
   "source": [
    "getStockPrice = Task(\n",
    "    description= \"Analyze the stock {ticket} price history and create a trend analyses of up, down or sideways\",\n",
    "    expected_output = \"\"\" Specifythe current trend stock price - up,  down, or sideways. eg. stock = 'APPL, price UP' \"\"\",\n",
    "    agent= stockPriceAnalyst\n",
    ")"
   ]
  },
  {
   "cell_type": "code",
   "execution_count": null,
   "metadata": {},
   "outputs": [],
   "source": [
    "# Importando a tool de search\n",
    "search_tool = DuckDuckGoSearchResults(backend = 'news', num_results=10)"
   ]
  },
  {
   "cell_type": "code",
   "execution_count": null,
   "metadata": {},
   "outputs": [],
   "source": [
    "newsAnalyst = Agent(\n",
    "    role = \"Stock News Analyst\",\n",
    "    goal = \"\"\"Create a short summary of the market  news related to the  stock {ticket} company. Specify the current trend - up, down, or sideways with\n",
    "    the news context. For each stock asset, specify a number between 0 and 100, where 0 is extreme fear and 100 is extreme good.\"\"\",\n",
    "    backstory = \"\"\" You're higly experienced in analyzing the market  trends and news and have tracked assets for more then 10 years.\n",
    "    \n",
    "    You're also master level analyts in the tradicional markets and have deep understading of human psychology. \n",
    "\n",
    "    You understand news, theirs tittles and information, but you look at those with a health dose of skepcism. You consider also the source of news articles. \n",
    "    \"\"\" ,\n",
    "    verbose = True,\n",
    "    llm= llm,\n",
    "    max_iter = 10,\n",
    "    memory = True,\n",
    "    tools=[yahoo_finance_tool],\n",
    "    allow_delegation = False\n",
    ")"
   ]
  },
  {
   "cell_type": "code",
   "execution_count": null,
   "metadata": {},
   "outputs": [],
   "source": [
    "get_news = Task(\n",
    "    description= f\"\"\"Take the stock and always include BTC to it (if not request)\n",
    "    use the search tool to search each one individually.\n",
    "    \n",
    "    The  current date is {datetime.now()}.\n",
    "    \n",
    "    Compose the results into a helpfull report\"\"\",\n",
    "    expected_output = \"\"\" A summary of the  overeall market and one sentence summary for each request asset.\n",
    "     Include  a fear/greed  score for  each asset based on the  news. Use format:\n",
    "      <STOCK ASSET>\n",
    "      <SUMMAY BASED ON NEWS>\n",
    "      <TREND PREDICTION>\n",
    "      <FEAR/GREED SCORE> \"\"\",\n",
    "    agent= stockPriceAnalyst\n",
    ")"
   ]
  },
  {
   "cell_type": "code",
   "execution_count": null,
   "metadata": {},
   "outputs": [],
   "source": [
    "stockAnalystWrite = Agent(\n",
    "    role = \"Senior Stock Analyts Writer\"\n",
    "    goal= \"Analyze the trends price and news and write an insighfull compelling and informative 3 paragraph long newsletter based on the stock\" \n",
    "    backstory= \"\"\"You re widely accepted as the best stock analyst in the market. You understand complex concepts and create compelling storles and narratives that resonate with wider audiences.\n",
    "    You understand macro factors and combine multiple theories - eg. cycle theory and fundamental anatyses.\n",
    "    You re able to hold multiple opinions when analyzing anything.\"\"\",\n",
    "\n",
    "    verbose = True,\n",
    "    llm=,\n",
    "    max_iter = 5,\n",
    "    memory=True,\n",
    "    allow_delegation = True\n",
    ")"
   ]
  },
  {
   "cell_type": "code",
   "execution_count": null,
   "metadata": {},
   "outputs": [],
   "source": [
    "writeAnalyses = Task(\n",
    "    description = \"\"\" Use the stock price trend and the stock news report to create an analyses and write the newsletter about the {ticket} company\n",
    "that is brief and highlights the most important points.\n",
    "Focus on the stock price trend, news and fear/greed score. What are the  near future considerations?\n",
    "Include the previous analyses of stock trend and news summary.\n",
    "\"\"\",\n",
    "    expected_output= \"\"\" An eloquent 3 paragraphs newsletter formated as markdown in an easy readable manner. It should contain:\n",
    "    - 3 bullets executive summary\n",
    "    - Introduction - set the overall picture and spike up the interest\n",
    "    - main part provides the meat of the analysis including the news sumnary and fead/greed scores\n",
    "    - summary - key facts and concrete future trend prediction - up, down or sideways.\n",
    "\"\"\",\n",
    "    agent = stockAnalystWrite,\n",
    "    context = [getStockPrice, get_news]\n",
    "\n",
    ")"
   ]
  },
  {
   "cell_type": "code",
   "execution_count": null,
   "metadata": {},
   "outputs": [],
   "source": [
    "crew = Crew(\n",
    "    agents = [stockPriceAnalyst, newsAnalyst, stockAnalystWrite],\n",
    "    tasks = [getStockPrice, get_news, writeAnalyses],\n",
    "    verbose = 2,\n",
    "    process = Process.hierarchical ,\n",
    "    full_output = True,\n",
    "    share_crew = False,\n",
    "    manager_llm=llm,\n",
    "    max_iter = 15\n",
    ")"
   ]
  },
  {
   "cell_type": "code",
   "execution_count": null,
   "metadata": {},
   "outputs": [],
   "source": [
    "results = crew.kickoff(inputs='ticket' : 'AAPL')"
   ]
  },
  {
   "cell_type": "code",
   "execution_count": null,
   "metadata": {},
   "outputs": [],
   "source": [
    "list(results.keys())"
   ]
  },
  {
   "cell_type": "code",
   "execution_count": null,
   "metadata": {},
   "outputs": [],
   "source": [
    "results['final_output']"
   ]
  },
  {
   "cell_type": "code",
   "execution_count": null,
   "metadata": {},
   "outputs": [],
   "source": [
    "len(results['tasks_outputs'])"
   ]
  },
  {
   "cell_type": "code",
   "execution_count": null,
   "metadata": {},
   "outputs": [],
   "source": [
    "Markdown(results ['final_output'])"
   ]
  }
 ],
 "metadata": {
  "kernelspec": {
   "display_name": "Python 3",
   "language": "python",
   "name": "python3"
  },
  "language_info": {
   "codemirror_mode": {
    "name": "ipython",
    "version": 3
   },
   "file_extension": ".py",
   "mimetype": "text/x-python",
   "name": "python",
   "nbconvert_exporter": "python",
   "pygments_lexer": "ipython3",
   "version": "3.12.4"
  }
 },
 "nbformat": 4,
 "nbformat_minor": 2
}
